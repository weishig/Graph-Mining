{
 "metadata": {
  "language_info": {
   "codemirror_mode": {
    "name": "ipython",
    "version": 3
   },
   "file_extension": ".py",
   "mimetype": "text/x-python",
   "name": "python",
   "nbconvert_exporter": "python",
   "pygments_lexer": "ipython3",
   "version": "3.8.5"
  },
  "orig_nbformat": 2,
  "kernelspec": {
   "name": "python385jvsc74a57bd03ca4a2588b5537c8ede33be15af14859fc8078d735d9197621e236497c4aa331",
   "display_name": "Python 3.8.5 64-bit (conda)"
  }
 },
 "nbformat": 4,
 "nbformat_minor": 2,
 "cells": [
  {
   "cell_type": "code",
   "execution_count": 10,
   "metadata": {},
   "outputs": [],
   "source": [
    "import numpy as np\n",
    "from  user import *\n",
    "from  item import *\n",
    "from user_based_Recommendor import *"
   ]
  },
  {
   "cell_type": "code",
   "execution_count": 2,
   "metadata": {},
   "outputs": [],
   "source": [
    "#there are 943 users and 1682 items\n",
    "user_item_matrix=np.full((943+1,1682+1),-1) #each row represents a user and each col represents a item, user_item_matrix[i][j]=user i's rating of item j\n",
    "file = open('ml-100k/u.data', 'r')\n",
    "Lines = file.readlines()\n",
    "for line in Lines:\n",
    "    splits=line.strip().split('\\t')\n",
    "    user_id=int(splits[0])\n",
    "    item_id=int(splits[1])\n",
    "    rating=int(splits[2])\n",
    "\n",
    "    user_item_matrix[user_id][item_id]=rating"
   ]
  },
  {
   "cell_type": "code",
   "execution_count": null,
   "metadata": {},
   "outputs": [],
   "source": [
    "#there are 943 users and 1682 items\n",
    "item_user_matrix=np.full((943+1,1682+1),-1) #each row represents a user and each col represents a item, user_item_matrix[i][j]=user i's rating of item j\n",
    "file = open('ml-100k/u.data', 'r')\n",
    "Lines = file.readlines()\n",
    "for line in Lines:\n",
    "    splits=line.strip().split('\\t')\n",
    "    user_id=int(splits[0])\n",
    "    item_id=int(splits[1])\n",
    "    rating=int(splits[2])\n",
    "\n",
    "    item_user_matrix[item_id][user_id]=rating"
   ]
  },
  {
   "cell_type": "code",
   "execution_count": 3,
   "metadata": {},
   "outputs": [],
   "source": [
    "user_dict={}\n",
    "file = open('ml-100k/u.user', 'r')\n",
    "Lines = file.readlines()\n",
    "for line in Lines:\n",
    "    splits=line.strip().split('|')\n",
    "    user_id=splits[0]\n",
    "\n",
    "    new_user=user(user_id,splits[1],splits[2],splits[3],splits[4])#id,age,gender,occupation,zip_code\n",
    "    user_dict[user_id]=new_user\n"
   ]
  },
  {
   "cell_type": "code",
   "execution_count": 4,
   "metadata": {},
   "outputs": [
    {
     "output_type": "stream",
     "name": "stdout",
     "text": [
      "User id =1, age=24, gender=M, occupation=technician, zip code=85711\nNone\n"
     ]
    }
   ],
   "source": [
    "print(user_dict['1'].printUserInfor())"
   ]
  },
  {
   "cell_type": "code",
   "execution_count": 5,
   "metadata": {},
   "outputs": [],
   "source": [
    "item_dict={}\n",
    "file = open('ml-100k/u.item', 'r',encoding=\"ISO-8859-1\")\n",
    "Lines = file.readlines()\n",
    "for line in Lines:\n",
    "    splits=line.strip().split('|')#1|Toy Story (1995)|01-Jan-1995||http://us.imdb.com/M/title-exact?Toy%20Story%20(1995)|0|0|0|1|1|1|0|0|0|0|0|0|0|0|0|0|0|0|0\n",
    "    movie_id=splits[0]\n",
    "    new_movie=movie(item_id,splits[1],splits[2],splits[3],splits[4],getTypes(line[-38:]))\n",
    "    item_dict[movie_id]=new_movie"
   ]
  },
  {
   "cell_type": "code",
   "execution_count": 6,
   "metadata": {},
   "outputs": [
    {
     "output_type": "stream",
     "name": "stdout",
     "text": [
      "movie id=203\nmovie title=Toy Story (1995)\nrelease data=01-Jan-1995\nvideo release date=\nIMDB URL=http://us.imdb.com/M/title-exact?Toy%20Story%20(1995)\ntype=Animation,Children's,Comedy\nNone\n"
     ]
    }
   ],
   "source": [
    "print(item_dict['1'].printMovieInfor())"
   ]
  },
  {
   "cell_type": "code",
   "execution_count": 8,
   "metadata": {},
   "outputs": [
    {
     "output_type": "error",
     "ename": "NameError",
     "evalue": "name 'user_based_Model_Test' is not defined",
     "traceback": [
      "\u001b[0;31m---------------------------------------------------------------------------\u001b[0m",
      "\u001b[0;31mNameError\u001b[0m                                 Traceback (most recent call last)",
      "\u001b[0;32m<ipython-input-8-031e47b6ddcc>\u001b[0m in \u001b[0;36m<module>\u001b[0;34m\u001b[0m\n\u001b[0;32m----> 1\u001b[0;31m \u001b[0muser_based_Model_Test\u001b[0m\u001b[0;34m(\u001b[0m\u001b[0muser_item_matrix\u001b[0m\u001b[0;34m,\u001b[0m\u001b[0;36m3\u001b[0m\u001b[0;34m)\u001b[0m\u001b[0;34m\u001b[0m\u001b[0;34m\u001b[0m\u001b[0m\n\u001b[0m",
      "\u001b[0;31mNameError\u001b[0m: name 'user_based_Model_Test' is not defined"
     ]
    }
   ],
   "source": [
    "user_based_Model_Test(user_item_matrix,3)"
   ]
  },
  {
   "cell_type": "code",
   "execution_count": null,
   "metadata": {},
   "outputs": [],
   "source": []
  }
 ]
}