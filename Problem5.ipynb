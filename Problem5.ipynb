{
 "metadata": {
  "language_info": {
   "codemirror_mode": {
    "name": "ipython",
    "version": 3
   },
   "file_extension": ".py",
   "mimetype": "text/x-python",
   "name": "python",
   "nbconvert_exporter": "python",
   "pygments_lexer": "ipython3",
   "version": "3.8.5"
  },
  "orig_nbformat": 2,
  "kernelspec": {
   "name": "python385jvsc74a57bd03ca4a2588b5537c8ede33be15af14859fc8078d735d9197621e236497c4aa331",
   "display_name": "Python 3.8.5 64-bit (conda)"
  }
 },
 "nbformat": 4,
 "nbformat_minor": 2,
 "cells": [
  {
   "source": [
    "Readme: \n",
    "1.The first part shows the procedure of user_based CF and I give one example at the end of this part\n",
    "2.The second part shows the procedure of item_based CF and I give one example at the end of this part"
   ],
   "cell_type": "markdown",
   "metadata": {}
  },
  {
   "cell_type": "code",
   "execution_count": 2,
   "metadata": {},
   "outputs": [],
   "source": [
    "import numpy as np"
   ]
  },
  {
   "cell_type": "code",
   "execution_count": 122,
   "metadata": {},
   "outputs": [],
   "source": [
    "#there are 943 users and 1682 items\n",
    "user_item_matrix=np.full((943+1,1682+1),-1) #each row represents a user and each col represents a item, user_item_matrix[i][j]=user i's rating of item j\n",
    "file = open('ml-100k/u.data', 'r')\n",
    "Lines = file.readlines()\n",
    "for line in Lines:\n",
    "    splits=line.strip().split('\\t')\n",
    "    user_id=int(splits[0])\n",
    "    item_id=int(splits[1])\n",
    "    rating=int(splits[2])\n",
    "\n",
    "    user_item_matrix[user_id][item_id]=rating"
   ]
  },
  {
   "source": [
    "1.User-based Collaborative Filtering"
   ],
   "cell_type": "markdown",
   "metadata": {}
  },
  {
   "cell_type": "code",
   "execution_count": 39,
   "metadata": {},
   "outputs": [],
   "source": [
    "def sort_dict(dict):\n",
    "    dict=sorted(dict.items(), key=lambda x:x[1],reverse=True)   \n",
    "    return dict"
   ]
  },
  {
   "cell_type": "code",
   "execution_count": 96,
   "metadata": {},
   "outputs": [],
   "source": [
    "def calculate_user_AverageRatings(user_item_matrix):\n",
    "    user_avg_rating={}\n",
    "    row=len(user_item_matrix)\n",
    "    col=len(user_item_matrix[0])\n",
    "    for i in range(1,row):\n",
    "        total=0\n",
    "        cnt=0\n",
    "        for j in range(1,col):\n",
    "            if user_item_matrix[i][j]!=-1:\n",
    "                total+=user_item_matrix[i][j]\n",
    "                cnt+=1\n",
    "        user_avg_rating[i]=total/cnt\n",
    "    return user_avg_rating\n",
    "\n"
   ]
  },
  {
   "cell_type": "code",
   "execution_count": 139,
   "metadata": {},
   "outputs": [],
   "source": [
    "def calculate_user_Similarity(user_item_matrix,user_id,item_id):\n",
    "    row=len(user_item_matrix)\n",
    "    col=len(user_item_matrix[0])\n",
    "    sim_dict={}\n",
    "    compare_index=[] # col that will be used to calculate similarity\n",
    "\n",
    "    for j in range(1,col):\n",
    "        if j!=item_id and user_item_matrix[user_id][j]!=-1:\n",
    "            compare_index.append(j)\n",
    "\n",
    "    for i in range(1,row):\n",
    "        if i==user_id:\n",
    "            continue\n",
    "        \n",
    "        sum=0\n",
    "        sqrt_1=0\n",
    "        sqrt_2=0\n",
    "        for j in compare_index:\n",
    "            if user_item_matrix[i][j]!=-1:\n",
    "                sum+=user_item_matrix[i][j]*user_item_matrix[user_id][j]\n",
    "                sqrt_1+=user_item_matrix[i][j]**2\n",
    "                sqrt_2+=user_item_matrix[user_id][j]**2\n",
    "        if sqrt_1*sqrt_2!=0:\n",
    "            sim_score=sum/np.sqrt(sqrt_1*sqrt_2)\n",
    "            sim_dict[i]=sim_score\n",
    "        else:\n",
    "            sim_dict[i]=0\n",
    "\n",
    "    dict=sort_dict(sim_dict)\n",
    "    sorted_sim_dictionary={}\n",
    "\n",
    "    for each in dict:\n",
    "        sorted_sim_dictionary[each[0]]=each[1]\n",
    "\n",
    "    return sorted_sim_dictionary\n",
    "\n",
    "        \n"
   ]
  },
  {
   "cell_type": "code",
   "execution_count": 140,
   "metadata": {},
   "outputs": [],
   "source": [
    "def get_TopK_neighbor_index(sorted_sim_dict,neighbor_size):\n",
    "    cnt=1\n",
    "    top_k_neighbor_index=[]\n",
    "    for each in sorted_sim_dict:\n",
    "        if cnt>neighbor_size:\n",
    "            break\n",
    "        cnt+=1      \n",
    "        top_k_neighbor_index.append(each)\n",
    "    return top_k_neighbor_index\n"
   ]
  },
  {
   "cell_type": "code",
   "execution_count": 141,
   "metadata": {},
   "outputs": [],
   "source": [
    "def user_based_CF(user_item_matrix,neighbor_size,user_id,item_id):\n",
    "    user_avg_rating_dict=calculateAverageRatings(user_item_matrix)\n",
    "    sorted_sim_dict=calculate_user_Similarity(user_item_matrix,user_id,item_id)\n",
    "    top_k_neighbor_index=get_TopK_neighbor_index(sorted_sim_dict,neighbor_size)\n",
    "\n",
    "    rating=user_avg_rating_dict[user_id]\n",
    "    sim_sum=0\n",
    "    for index in top_k_neighbor_index:\n",
    "        sim_sum+=sorted_sim_dict[index]\n",
    "    \n",
    "    for index in top_k_neighbor_index:\n",
    "        if user_item_matrix[user_id][item_id]!=-1:\n",
    "            score=sorted_sim_dict[index]*(user_item_matrix[user_id][item_id]-user_avg_rating_dict[index])/sim_sum\n",
    "            rating+=score\n",
    "    print(\"rating of user_id=\"+str(user_id)+\" to item_id=\"+str(item_id)+\" is \"+str(rating))\n",
    "    return rating\n",
    "\n",
    "\n"
   ]
  },
  {
   "cell_type": "code",
   "execution_count": 142,
   "metadata": {},
   "outputs": [
    {
     "output_type": "stream",
     "name": "stdout",
     "text": [
      "rating of user_id=1 to item_id=2 is 3.330640437993379\n"
     ]
    }
   ],
   "source": [
    "neighbor_size=5\n",
    "user_id=1\n",
    "item_id=2\n",
    "rating=user_based_CF(user_item_matrix,neighbor_size,user_id,item_id)\n"
   ]
  },
  {
   "cell_type": "code",
   "execution_count": 130,
   "metadata": {},
   "outputs": [
    {
     "output_type": "stream",
     "name": "stdout",
     "text": [
      "From user_item_matrix provided by the website, rating of user_id=1 to item_id=2 is 3\nWe can see that the predicted value of my user-based CF is close to actual value\n"
     ]
    }
   ],
   "source": [
    "print(\"From user_item_matrix provided by the website, rating of user_id=\"+str(user_id)+\" to item_id=\"+str(item_id)+\" is \"+str(user_item_matrix[user_id][item_id]))\n",
    "print(\"We can see that the predicted value of my user-based CF is close to actual value\")"
   ]
  },
  {
   "source": [
    "2.Item Based Collaborative Filtering"
   ],
   "cell_type": "markdown",
   "metadata": {}
  },
  {
   "cell_type": "code",
   "execution_count": 120,
   "metadata": {},
   "outputs": [],
   "source": [
    "#there are 943 users and 1682 items\n",
    "item_user_matrix=np.full((1682+1,943+1),-1) #each row represents a user and each col represents a item, user_item_matrix[i][j]=user i's rating of item j\n",
    "file = open('ml-100k/u.data', 'r')\n",
    "Lines = file.readlines()\n",
    "for line in Lines:\n",
    "    splits=line.strip().split('\\t')\n",
    "    user_id=int(splits[0])\n",
    "    item_id=int(splits[1])\n",
    "    rating=int(splits[2])\n",
    "\n",
    "    item_user_matrix[item_id][user_id]=rating"
   ]
  },
  {
   "cell_type": "code",
   "execution_count": 101,
   "metadata": {},
   "outputs": [],
   "source": [
    "def calculate_item_AverageRatings(item_user_matrix):\n",
    "    item_avg_rating={}\n",
    "    row=len(item_user_matrix)\n",
    "    col=len(item_user_matrix[0])\n",
    "    for i in range(1,row):\n",
    "        total=0\n",
    "        cnt=0\n",
    "        for j in range(1,col):\n",
    "            if item_user_matrix[i][j]!=-1:\n",
    "                total+=item_user_matrix[i][j]\n",
    "                cnt+=1\n",
    "        item_avg_rating[i]=total/cnt\n",
    "    return item_avg_rating"
   ]
  },
  {
   "cell_type": "code",
   "execution_count": 134,
   "metadata": {},
   "outputs": [],
   "source": [
    "def calculate_item_Similarity(item_user_matrix,user_id,item_id):\n",
    "    row=len(item_user_matrix)\n",
    "    col=len(item_user_matrix[0])\n",
    "    sim_dict={}\n",
    "    compare_index=[] # col that will be used to calculate similarity\n",
    "\n",
    "    for j in range(1,col):\n",
    "        if j!=user_id and item_user_matrix[item_id][j]!=-1:\n",
    "            compare_index.append(j)\n",
    "\n",
    "    for i in range(1,row):\n",
    "        if i==item_id:\n",
    "            continue\n",
    "        \n",
    "        sum=0\n",
    "        sqrt_1=0\n",
    "        sqrt_2=0\n",
    "        for j in compare_index:\n",
    "            if item_user_matrix[i][j]!=-1:\n",
    "                sum+=item_user_matrix[i][j]*item_user_matrix[item_id][j]\n",
    "                sqrt_1+=item_user_matrix[i][j]**2\n",
    "                sqrt_2+=item_user_matrix[item_id][j]**2\n",
    "        \n",
    "        if sqrt_1*sqrt_2!=0:\n",
    "            sim_score=sum/np.sqrt(sqrt_1*sqrt_2)\n",
    "            sim_dict[i]=sim_score\n",
    "        else:\n",
    "            sim_dict[i]=0\n",
    "\n",
    "    dict=sort_dict(sim_dict)\n",
    "    sorted_sim_dictionary={}\n",
    "\n",
    "    for each in dict:\n",
    "        sorted_sim_dictionary[each[0]]=each[1]\n",
    "\n",
    "    return sorted_sim_dictionary"
   ]
  },
  {
   "cell_type": "code",
   "execution_count": 118,
   "metadata": {},
   "outputs": [],
   "source": [
    "def item_based_CF(item_user_matrix,neighbor_size,user_id,item_id):\n",
    "    item_avg_rating_dict=calculateAverageRatings(item_user_matrix)\n",
    "    sorted_sim_dict=calculate_item_Similarity(item_user_matrix,user_id,item_id)\n",
    "    top_k_neighbor_index=get_TopK_neighbor_index(sorted_sim_dict,neighbor_size)\n",
    "\n",
    "    rating=item_avg_rating_dict[item_id]\n",
    "    sim_sum=0\n",
    "    for index in top_k_neighbor_index:\n",
    "        sim_sum+=sorted_sim_dict[index]\n",
    "    \n",
    "    for index in top_k_neighbor_index:\n",
    "        if item_user_matrix[item_id][user_id]!=-1:\n",
    "            score=sorted_sim_dict[index]*(item_user_matrix[item_id][user_id]-item_avg_rating_dict[index])/sim_sum\n",
    "            rating+=score\n",
    "    print(\"rating of user_id=\"+str(user_id)+\" to item_id=\"+str(item_id)+\" is \"+str(rating))\n",
    "    return rating"
   ]
  },
  {
   "cell_type": "code",
   "execution_count": 135,
   "metadata": {},
   "outputs": [
    {
     "output_type": "stream",
     "name": "stdout",
     "text": [
      "rating of user_id=1 to item_id=2 is 2.9372179813401185\n"
     ]
    }
   ],
   "source": [
    "neighbor_size=5\n",
    "user_id=1\n",
    "item_id=2\n",
    "rating=item_based_CF(item_user_matrix,neighbor_size,user_id,item_id)"
   ]
  },
  {
   "cell_type": "code",
   "execution_count": 136,
   "metadata": {},
   "outputs": [
    {
     "output_type": "stream",
     "name": "stdout",
     "text": [
      "From user_item_matrix provided by the website, rating of user_id=1 to item_id=2 is 3\nWe can see that the predicted value of my user-based CF is close to actual value\n"
     ]
    }
   ],
   "source": [
    "print(\"From user_item_matrix provided by the website, rating of user_id=\"+str(user_id)+\" to item_id=\"+str(item_id)+\" is \"+str(user_item_matrix[user_id][item_id]))\n",
    "print(\"We can see that the predicted value of my user-based CF is close to actual value\")"
   ]
  },
  {
   "source": [
    "3.Summary"
   ],
   "cell_type": "markdown",
   "metadata": {}
  },
  {
   "cell_type": "code",
   "execution_count": 143,
   "metadata": {},
   "outputs": [
    {
     "output_type": "stream",
     "name": "stdout",
     "text": [
      "rating of user_id=14 to item_id=2 is 4.091836734693878\n"
     ]
    }
   ],
   "source": [
    "# to implement user_based_CF\n",
    "neighbor_size=83\n",
    "user_id=14\n",
    "item_id=2\n",
    "rating=user_based_CF(user_item_matrix,neighbor_size,user_id,item_id)"
   ]
  },
  {
   "cell_type": "code",
   "execution_count": 138,
   "metadata": {},
   "outputs": [
    {
     "output_type": "stream",
     "name": "stdout",
     "text": [
      "rating of user_id=14 to item_id=2 is 3.2061068702290076\n"
     ]
    }
   ],
   "source": [
    "#to implement item_based CF\n",
    "neighbor_size=83\n",
    "user_id=14\n",
    "item_id=2\n",
    "rating=item_based_CF(item_user_matrix,neighbor_size,user_id,item_id)"
   ]
  },
  {
   "cell_type": "code",
   "execution_count": 144,
   "metadata": {},
   "outputs": [
    {
     "output_type": "stream",
     "name": "stdout",
     "text": [
      "4\n"
     ]
    }
   ],
   "source": [
    "print(item_user_matrix[user_id][item_id])"
   ]
  }
 ]
}